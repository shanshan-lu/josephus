{
 "cells": [
  {
   "cell_type": "code",
   "execution_count": 4,
   "source": [
    "class Josephus():\r\n",
    "    def __init__(self,people,start,step):\r\n",
    "        self.people = people\r\n",
    "        self.start = start\r\n",
    "        self.step = step\r\n",
    "        self.total_number = len(self.people)\r\n",
    "        assert start >= 0\r\n",
    "        assert step >= 1\r\n",
    "\r\n",
    "    def add_person(self,person):\r\n",
    "        self.people.append(person)\r\n",
    "        return self.people\r\n",
    "    \r\n",
    "    \r\n",
    "    def del_person(self,person):\r\n",
    "        self.people.pop(self.people.index(person))\r\n",
    "        return self.people\r\n",
    "    \r\n",
    "    \r\n",
    "    def kill_people(self):\r\n",
    "        out_list = []\r\n",
    "        while self.total_number > 1:\r\n",
    "            out_location = (self.start + self.step - 1 ) % self.total_number \r\n",
    "            out_list.append(self.people[out_location])\r\n",
    "            self.people.pop(out_location)\r\n",
    "            self.start = out_location\r\n",
    "        yield out_list\r\n",
    "if __name__ == '__main__':\r\n",
    "    e = Josephus(['黄','洗','话'],1,2)\r\n",
    "    s = e.del_person('话') \r\n",
    "    print(s) \r\n"
   ],
   "outputs": [
    {
     "output_type": "stream",
     "name": "stdout",
     "text": [
      "['黄', '洗']\n"
     ]
    }
   ],
   "metadata": {}
  },
  {
   "cell_type": "code",
   "execution_count": 68,
   "source": [
    "import numpy as np\r\n",
    "import sys\r\n",
    "sys.path.append('E:\\\\LSS\\\\LSS\\\\Josephus problem')\r\n",
    "import openpyxl\r\n",
    "import json\r\n",
    "class XLSX_reader():\r\n",
    "    def __init__(self,file_name):\r\n",
    "        self.name = file_name\r\n",
    "        self.content = []\r\n",
    "    def read_file(self):\r\n",
    "        xlsx = openpyxl.load_workbook(self.name)\r\n",
    "        sheet = xlsx.active\r\n",
    "        return sheet\r\n",
    "    def save_to_list(self,sheet):\r\n",
    "        rows = sheet.rows\r\n",
    "        \r\n",
    "        for row in rows:\r\n",
    "            values = [cell.value for cell in row]\r\n",
    "            self.content.append(values)\r\n",
    "        return self.content\r\n",
    "  \r\n",
    "      \r\n",
    "if __name__ == '__main__':\r\n",
    "    file_name ='F:\\\\LSS\\\\LSS\\\\Josephus problem\\\\data\\\\xlsx.xlsx'\r\n",
    "    s = XLSX_reader(file_name)\r\n",
    "    f = s.read_file()\r\n",
    "    d = s.save_to_list(f)\r\n",
    "    print(d)"
   ],
   "outputs": [
    {
     "output_type": "stream",
     "name": "stdout",
     "text": [
      "[['黄丽', '女', 12], ['王磊', '男', 18], ['谢菲', '女', 19]]\n"
     ]
    }
   ],
   "metadata": {}
  },
  {
   "cell_type": "code",
   "execution_count": 8,
   "source": [
    "class Person():\r\n",
    "    def __init__(self,name,gender,age):\r\n",
    "        self._name = name\r\n",
    "        self._gender = gender\r\n",
    "        self.__age = age\r\n",
    "        \r\n",
    "    def judge_age(self):\r\n",
    "        if self.age < 0:\r\n",
    "            print('年龄错误')\r\n",
    "        return \"age input error\"\r\n",
    "\r\n",
    "    def judge_gender(self):\r\n",
    "        if self.gender not in ['男','女']:\r\n",
    "            print('性别错误')\r\n",
    "        return \"gender input error\"\r\n",
    "if __name__ == '__main__':\r\n",
    "    e = Person('hu','女',11)\r\n",
    "    print(e.__age)"
   ],
   "outputs": [
    {
     "output_type": "error",
     "ename": "AttributeError",
     "evalue": "'Person' object has no attribute 'name'",
     "traceback": [
      "\u001b[1;31m---------------------------------------------------------------------------\u001b[0m",
      "\u001b[1;31mAttributeError\u001b[0m                            Traceback (most recent call last)",
      "\u001b[1;32m<ipython-input-8-b47b10e15421>\u001b[0m in \u001b[0;36m<module>\u001b[1;34m\u001b[0m\n\u001b[0;32m     16\u001b[0m \u001b[1;32mif\u001b[0m \u001b[0m__name__\u001b[0m \u001b[1;33m==\u001b[0m \u001b[1;34m'__main__'\u001b[0m\u001b[1;33m:\u001b[0m\u001b[1;33m\u001b[0m\u001b[1;33m\u001b[0m\u001b[0m\n\u001b[0;32m     17\u001b[0m     \u001b[0me\u001b[0m \u001b[1;33m=\u001b[0m \u001b[0mPerson\u001b[0m\u001b[1;33m(\u001b[0m\u001b[1;34m'hu'\u001b[0m\u001b[1;33m,\u001b[0m\u001b[1;34m'女'\u001b[0m\u001b[1;33m,\u001b[0m\u001b[1;36m11\u001b[0m\u001b[1;33m)\u001b[0m\u001b[1;33m\u001b[0m\u001b[1;33m\u001b[0m\u001b[0m\n\u001b[1;32m---> 18\u001b[1;33m     \u001b[0mprint\u001b[0m\u001b[1;33m(\u001b[0m\u001b[0me\u001b[0m\u001b[1;33m.\u001b[0m\u001b[0mname\u001b[0m\u001b[1;33m)\u001b[0m\u001b[1;33m\u001b[0m\u001b[1;33m\u001b[0m\u001b[0m\n\u001b[0m",
      "\u001b[1;31mAttributeError\u001b[0m: 'Person' object has no attribute 'name'"
     ]
    }
   ],
   "metadata": {}
  },
  {
   "cell_type": "code",
   "execution_count": 1,
   "source": [
    "def logging(level):\r\n",
    "    def wrapper(func):\r\n",
    "        def inner_wrapper(*args, **kwargs):\r\n",
    "            print (\"[{level}]: enter function {func}()\".format(\r\n",
    "                level=level,\r\n",
    "                func=func.__name__))\r\n",
    "            return func(*args, **kwargs)\r\n",
    "        return inner_wrapper\r\n",
    "    return wrapper\r\n",
    "\r\n",
    "@logging(level='INFO')\r\n",
    "def say(something):\r\n",
    "    print (\"say {}!\".format(something))\r\n",
    "\r\n",
    "# 如果没有使用@语法，等同于\r\n",
    "# say = logging(level='INFO')(say)\r\n",
    "\r\n",
    "@logging(level='DEBUG')\r\n",
    "def do(something):\r\n",
    "    print (\"do {}...\".format(something))\r\n",
    "\r\n",
    "if __name__ == '__main__':\r\n",
    "    say('hello')\r\n",
    "    do(\"my work\")"
   ],
   "outputs": [
    {
     "output_type": "stream",
     "name": "stdout",
     "text": [
      "[INFO]: enter function say()\n",
      "say hello!\n",
      "[DEBUG]: enter function do()\n",
      "do my work...\n"
     ]
    }
   ],
   "metadata": {}
  },
  {
   "cell_type": "code",
   "execution_count": 2,
   "source": [
    "class logging(object):\r\n",
    "    def __init__(self, func):\r\n",
    "        self.func = func\r\n",
    "\r\n",
    "    def __call__(self, *args, **kwargs):\r\n",
    "        print (\"[DEBUG]: enter function {func}()\".format(\r\n",
    "            func=self.func.__name__))\r\n",
    "        return self.func(*args, **kwargs)\r\n",
    "@logging\r\n",
    "def say(something):\r\n",
    "    print (\"say {}!\".format(something))\r\n",
    "\r\n",
    "print(say('haha'))"
   ],
   "outputs": [
    {
     "output_type": "stream",
     "name": "stdout",
     "text": [
      "[DEBUG]: enter function say()\n",
      "say haha!\n",
      "None\n"
     ]
    }
   ],
   "metadata": {}
  },
  {
   "cell_type": "code",
   "execution_count": 3,
   "source": [
    "class logging(object):\r\n",
    "    def __init__(self, level='INFO'):\r\n",
    "        self.level = level\r\n",
    "        \r\n",
    "    def __call__(self, func): # 接受函数\r\n",
    "        def wrapper(*args, **kwargs):\r\n",
    "            print (\"[{level}]: enter function {func}()\".format(\r\n",
    "                level=self.level,\r\n",
    "                func=func.__name__))\r\n",
    "            func(*args, **kwargs)\r\n",
    "        return wrapper  #返回函数\r\n",
    "\r\n",
    "@logging(level='INFO')\r\n",
    "def say(something):\r\n",
    "    print (\"say {}!\".format(something))\r\n",
    "\r\n",
    "print(say('wang'))"
   ],
   "outputs": [
    {
     "output_type": "stream",
     "name": "stdout",
     "text": [
      "[INFO]: enter function say()\n",
      "say wang!\n",
      "None\n"
     ]
    }
   ],
   "metadata": {}
  },
  {
   "cell_type": "code",
   "execution_count": 6,
   "source": [
    "class Josephus():\r\n",
    "    def __init__(self,people,start_pos,step):\r\n",
    "        self._people = people\r\n",
    "        self.start_pos = start_pos\r\n",
    "        self.step = step\r\n",
    "        self.total_number = len(self._people)\r\n",
    "        self.out_list = []\r\n",
    "        \r\n",
    "\r\n",
    "    def add_person(self,person):\r\n",
    "        self._people.append(person)\r\n",
    "        return self._people\r\n",
    "    \r\n",
    "    \r\n",
    "    def del_person(self,person):\r\n",
    "        self._people.pop(self._people.index(person))\r\n",
    "        return self._people\r\n",
    "    \r\n",
    "    def kill_people(self):\r\n",
    "        \r\n",
    "        if len(self._people) > 1:\r\n",
    "            out_location = (self.start_pos + self.step - 1 ) % len(self._people) \r\n",
    "            self.out_list.append(self._people[out_location])\r\n",
    "            self._people.pop(out_location)\r\n",
    "            self.start_pos = out_location\r\n",
    "        yield self.out_list\r\n",
    "\r\n",
    "if __name__ == '__main__':\r\n",
    "    ex = Josephus([1,2,3,4,5],1,2)\r\n",
    "    for i in range(5):\r\n",
    "        ex.kill_people().__next__()\r\n",
    "    print(ex.out_list)\r\n",
    "    \r\n"
   ],
   "outputs": [
    {
     "output_type": "stream",
     "name": "stdout",
     "text": [
      "[3, 5, 2, 1]\n"
     ]
    }
   ],
   "metadata": {}
  },
  {
   "cell_type": "code",
   "execution_count": null,
   "source": [],
   "outputs": [],
   "metadata": {}
  }
 ],
 "metadata": {
  "interpreter": {
   "hash": "2ead94d640ea4b224a5f14d0e87aec3d5ef94048966f61c147f53684dfe5d4af"
  },
  "kernelspec": {
   "display_name": "Python 3.8.5 64-bit ('base': conda)",
   "name": "python3"
  },
  "language_info": {
   "name": "python",
   "version": ""
  },
  "orig_nbformat": 4
 },
 "nbformat": 4,
 "nbformat_minor": 2
}