{
 "cells": [
  {
   "cell_type": "code",
   "execution_count": 6,
   "source": [
    "import zipfile\r\n",
    "import sys\r\n",
    "sys.path.append('../Josephus problem')\r\n",
    "\r\n",
<<<<<<< HEAD
    "class ZipReader():\r\n",
    "    def __init__(self,file_name):\r\n",
    "        self.name = file_name\r\n",
    "        self.content = []\r\n",
    "        self.file_list = []\r\n",
    "\r\n",
    "    def read_file(self):\r\n",
    "        self.zip_file = zipfile.ZipFile(self.name,'r')\r\n",
    "        for each_file in self.zip_file.namelist():\r\n",
    "            self.file_list.append(each_file)\r\n",
    "        return self.file_list\r\n",
    "\r\n",
    "    def save_to_list(self,file):\r\n",
    "        file = self.file_list\r\n",
    "        for read_name in file:\r\n",
    "            zip_content = self.zip_file.open(read_name,'r')\r\n",
    "            for line in zip_content.readlines():\r\n",
    "                line = line.decode(\"utf-8\")\r\n",
    "                self.content.append(line.split())\r\n",
    "            zip_content.close()\r\n",
    "        return self.content\r\n",
    "        \r\n",
    "        \r\n",
    "if __name__ == '__main__':\r\n",
    "    file_name ='E:\\\\LSS\\\\LSS\\\\Josephus problem\\\\data\\\\zip.zip' \r\n",
    "    ex = ZipReader(file_name)\r\n",
    "    s = ex.read_file()\r\n",
    "    print(s)\r\n",
    "    r = ex.save_to_list(s)\r\n",
    "    print(r)  \r\n"
   ],
=======
    "class Josephus():\r\n",
    "    def __init__(self,people,start,step):\r\n",
    "        self.people = people\r\n",
    "        self.start = start\r\n",
    "        self.step = step\r\n",
    "        self.total_number = len(self.people)\r\n",
    "        assert start >= 0\r\n",
    "        assert step >= 1\r\n",
    "\r\n",
    "    def add_people(self,person):\r\n",
    "        self.people.append(person)\r\n",
    "        return self.people\r\n",
    "    \r\n",
    "    def del_people(self,adress):\r\n",
    "        self.people.pop(adress)\r\n",
    "        return self.people\r\n",
    "    \r\n",
    "    def kill_people(self):\r\n",
    "        out_list = []\r\n",
    "        while len(self.people) > 1:\r\n",
    "            out_location = (self.start + self.step - 1 ) % len(self.people) \r\n",
    "            out_list.append(self.people[out_location])\r\n",
    "            self.people.pop(out_location)\r\n",
    "            self.start = out_location\r\n",
    "        yield out_list\r\n",
    "\r\n",
    "if __name__ == '__main__':\r\n",
    "    \r\n",
    "    #ex = Josephus(['黄里','小西','大华'],1,2)\r\n",
    "    c = Josephus.kill_people()\r\n",
    "    \r\n",
    "    \r\n",
    "    \r\n",
    "    \r\n",
    "\r\n",
    "    \r\n"
   ]
  },
  {
   "cell_type": "code",
   "execution_count": 4,
   "metadata": {},
>>>>>>> cd9f44beeb45b78071cbe3a4a4f4bd4a951b20a8
   "outputs": [
    {
     "output_type": "stream",
     "name": "stdout",
     "text": [
      "['txt.txt', 'players.txt']\n",
      "[['黄丽', '女', '12'], ['王磊', '男', '18'], ['谢菲', '女', '19'], ['华夏', '女', '1'], ['西安', '男', '33'], ['西北', '女', '22']]\n"
     ]
    }
   ],
   "metadata": {}
  }
 ],
 "metadata": {
  "interpreter": {
   "hash": "1156c62f1ae9123d493662f3a140fe8a6834acbe3b4812a4898da9f8310f2de4"
  },
  "kernelspec": {
   "display_name": "Python 3.7.0 64-bit ('base': conda)",
   "name": "python3"
  },
  "language_info": {
   "name": "python",
   "version": ""
  },
  "orig_nbformat": 4
 },
 "nbformat": 4,
 "nbformat_minor": 2
}